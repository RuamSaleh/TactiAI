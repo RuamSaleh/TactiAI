{
 "cells": [
  {
   "cell_type": "code",
   "execution_count": 10,
   "metadata": {},
   "outputs": [],
   "source": [
    "import pandas as pd\n",
    "import joblib"
   ]
  },
  {
   "cell_type": "code",
   "execution_count": 11,
   "metadata": {},
   "outputs": [],
   "source": [
    "model = joblib.load('../models/model.pkl')\n",
    "feature_names = joblib.load('../models/feature_names.pkl')"
   ]
  },
  {
   "cell_type": "code",
   "execution_count": 19,
   "metadata": {},
   "outputs": [],
   "source": [
    "input_data = pd.DataFrame({\n",
    "    'tourney_id': ['2024-M-DC-2024-WG2-PO-URU-MDA-01'],\n",
    "    'draw_size': [4],\n",
    "    'tourney_date': [20240203],\n",
    "    'match_num': [4],\n",
    "    'winner_id': [105430],\n",
    "    'winner_seed': [None],  # Seed not provided\n",
    "    'winner_ht': [175.0],\n",
    "    'winner_age': [34.2],\n",
    "    'loser_id': [208364],\n",
    "    'loser_seed': [None],  # Seed not provided\n",
    "    'loser_ht': [185.0],\n",
    "    'loser_age': [23.9],\n",
    "    'minutes': [95.0],\n",
    "    'w_ace': [2.0],\n",
    "    'w_df': [1.0],\n",
    "    'w_svpt': [50.0],\n",
    "    'w_1stIn': [30.0],\n",
    "    'w_1stWon': [19.0],\n",
    "    'w_2ndWon': [14.0],\n",
    "    'w_SvGms': [8.0],\n",
    "    'w_bpSaved': [3.0],\n",
    "    'w_bpFaced': [4.0],\n",
    "    'l_ace': [1.0],\n",
    "    'l_df': [1.0],\n",
    "    'l_svpt': [82.0],\n",
    "    'l_1stIn': [66.0],\n",
    "    'l_1stWon': [33.0],\n",
    "    'l_2ndWon': [6.0],\n",
    "    'l_SvGms': [8.0],\n",
    "    'l_bpSaved': [6.0],\n",
    "    'l_bpFaced': [11.0],\n",
    "    'winner_rank': [136.0],\n",
    "    'winner_rank_points': [489.0],\n",
    "    'loser_rank': [616.0],\n",
    "    'loser_rank_points': [55.0]\n",
    "})\n",
    "\n",
    "   "
   ]
  },
  {
   "cell_type": "code",
   "execution_count": 20,
   "metadata": {},
   "outputs": [],
   "source": [
    "input_data = pd.get_dummies(input_data, drop_first=True)\n",
    "input_data = input_data.reindex(columns=feature_names, fill_value=0)\n"
   ]
  },
  {
   "cell_type": "code",
   "execution_count": null,
   "metadata": {},
   "outputs": [
    {
     "name": "stdout",
     "output_type": "stream",
     "text": [
      "Predicted Tactical Decision: baseline play\n"
     ]
    }
   ],
   "source": [
    "predictions = model.predict(input_data)\n",
    "\n",
    "# Print the predicted tactical decision\n",
    "print(\"Predicted Tactical Decision:\", predictions[0])"
   ]
  }
 ],
 "metadata": {
  "language_info": {
   "name": "python"
  }
 },
 "nbformat": 4,
 "nbformat_minor": 2
}
